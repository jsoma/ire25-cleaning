{
 "cells": [
  {
   "cell_type": "markdown",
   "id": "c18c70d0-aa51-437a-a6db-a40ece98018b",
   "metadata": {},
   "source": [
    "We'll start by downloading the Excel file this is all based on."
   ]
  },
  {
   "cell_type": "code",
   "execution_count": 1,
   "id": "3dbfc628-9731-4ff7-b58b-6e91f5a52348",
   "metadata": {},
   "outputs": [],
   "source": [
    "import pandas as pd\n",
    "\n",
    "url = \"https://github.com/jsoma/ire24-cleaning/raw/main/IRE24%20-%20Data%20cleaning%20worksheet.xlsx\"\n",
    "df = pd.read_excel(url)\n",
    "df.to_excel(\"IRE24 - Data cleaning worksheet.xlsx\", index=False)"
   ]
  },
  {
   "cell_type": "markdown",
   "id": "fbd2f066-e3fb-4aff-be6e-e21c0808e03f",
   "metadata": {},
   "source": [
    "# Tow trucks"
   ]
  },
  {
   "cell_type": "code",
   "execution_count": null,
   "id": "720ab0a5-ec38-42cf-9ea0-4ccabd4d2f40",
   "metadata": {},
   "outputs": [],
   "source": [
    "import pandas as pd\n",
    "\n",
    "df = pd.read_excel(\"IRE24 - Data cleaning worksheet.xlsx\", sheet_name='tow trucks')\n",
    "df.head()"
   ]
  },
  {
   "cell_type": "markdown",
   "id": "f899a8f7-23f3-45cd-a26a-851cddaf2d65",
   "metadata": {},
   "source": [
    "## Calculate total number of tow trucks"
   ]
  },
  {
   "cell_type": "code",
   "execution_count": null,
   "id": "f28d6f00-9eea-4e8c-a78f-7c4378ef7281",
   "metadata": {},
   "outputs": [],
   "source": []
  },
  {
   "cell_type": "markdown",
   "id": "e75ba875-6ca4-4bb1-8397-2ab21bce628a",
   "metadata": {},
   "source": [
    "## Extract the address"
   ]
  },
  {
   "cell_type": "code",
   "execution_count": null,
   "id": "a9e2b688-ac5c-48da-97ea-5f31295ec7b5",
   "metadata": {},
   "outputs": [],
   "source": []
  },
  {
   "cell_type": "code",
   "execution_count": null,
   "id": "34b6fd0d-6e9f-45e6-a31b-da9e0130cf93",
   "metadata": {},
   "outputs": [],
   "source": [
    "df = df.join(details)\n",
    "df"
   ]
  },
  {
   "cell_type": "markdown",
   "id": "0b9500eb-2a37-4f75-867a-f0bd0161629b",
   "metadata": {},
   "source": [
    "## Extract the ZIP code"
   ]
  },
  {
   "cell_type": "code",
   "execution_count": null,
   "id": "db8abbc5-36c1-41ab-94d5-ec2c516fdd31",
   "metadata": {},
   "outputs": [],
   "source": []
  },
  {
   "cell_type": "markdown",
   "id": "ceeb0567-60d2-4117-9feb-602c34467529",
   "metadata": {},
   "source": [
    "# Locksmiths"
   ]
  },
  {
   "cell_type": "code",
   "execution_count": null,
   "id": "a77cefcc-a7a0-4573-9e36-e9cde09c9c3b",
   "metadata": {},
   "outputs": [],
   "source": [
    "import pandas as pd\n",
    "\n",
    "# I need the see the long long \"Business Legal/Trading\" blah blah column\n",
    "pd.options.display.max_colwidth = None\n",
    "\n",
    "df = pd.read_excel(\"IRE24 - Data cleaning worksheet.xlsx\", sheet_name='locksmiths')\n",
    "df.head()"
   ]
  },
  {
   "cell_type": "markdown",
   "id": "78ffcf92-deb9-4a08-9b1e-71e75ce19101",
   "metadata": {},
   "source": [
    "## Number of employees"
   ]
  },
  {
   "cell_type": "code",
   "execution_count": null,
   "id": "9960f9d3-69e8-4221-bb64-74bc8f9dd65b",
   "metadata": {},
   "outputs": [],
   "source": []
  },
  {
   "cell_type": "markdown",
   "id": "7556b222-f467-4181-acbe-e70533cec582",
   "metadata": {},
   "source": [
    "## Physical address"
   ]
  },
  {
   "cell_type": "code",
   "execution_count": null,
   "id": "06c35a22-734f-4d4c-a3b1-b3f37773c2ea",
   "metadata": {},
   "outputs": [],
   "source": []
  },
  {
   "cell_type": "markdown",
   "id": "e98a5cd6-d8db-4af1-aed1-cf10518ce759",
   "metadata": {},
   "source": [
    "## Tow trucks Part 2"
   ]
  },
  {
   "cell_type": "code",
   "execution_count": null,
   "id": "836420ae-6e83-4de9-b6b6-0a4f3164d5f6",
   "metadata": {},
   "outputs": [],
   "source": [
    "import pandas as pd\n",
    "\n",
    "# I need the see the long long \"Business Legal/Trading\" blah blah column\n",
    "pd.options.display.max_colwidth = None\n",
    "\n",
    "df = pd.read_excel(\"IRE24 - Data cleaning worksheet.xlsx\", sheet_name='tow trucks 2')\n",
    "df.head()"
   ]
  },
  {
   "cell_type": "markdown",
   "id": "18b237be-cfec-4974-8358-b80cbea87568",
   "metadata": {},
   "source": [
    "## Phone number"
   ]
  },
  {
   "cell_type": "code",
   "execution_count": null,
   "id": "d697f0e3-affa-478a-92de-02e639a0e2ef",
   "metadata": {},
   "outputs": [],
   "source": []
  },
  {
   "cell_type": "markdown",
   "id": "193a0957-589a-4674-b626-889553cb77a6",
   "metadata": {},
   "source": [
    "## All other details! Business name, owners, etc."
   ]
  },
  {
   "cell_type": "code",
   "execution_count": null,
   "id": "6a4c823b-7c41-4935-857e-7242e06c0955",
   "metadata": {},
   "outputs": [],
   "source": []
  },
  {
   "cell_type": "markdown",
   "id": "291d3dce-b31d-4bef-b569-a0e9be89b855",
   "metadata": {},
   "source": [
    "## State table"
   ]
  },
  {
   "cell_type": "code",
   "execution_count": null,
   "id": "69a0b55c-8241-4b03-9898-26718032359f",
   "metadata": {},
   "outputs": [],
   "source": [
    "import pandas as pd\n",
    "\n",
    "tables = pd.read_html(\"https://en.wikipedia.org/wiki/List_of_U.S._states_and_territories_by_historical_population\")\n",
    "len(tables)"
   ]
  },
  {
   "cell_type": "markdown",
   "id": "e998e9a9-473c-4d30-bc2d-ff53ab372fb4",
   "metadata": {},
   "source": [
    "## Remove the things in brackets"
   ]
  },
  {
   "cell_type": "code",
   "execution_count": null,
   "id": "e068210b-9d7c-4605-aa22-732cd03cef6e",
   "metadata": {},
   "outputs": [],
   "source": []
  },
  {
   "cell_type": "code",
   "execution_count": null,
   "id": "ccdf23a9-b03b-43c9-a4c9-d83da644ff58",
   "metadata": {},
   "outputs": [],
   "source": []
  },
  {
   "cell_type": "code",
   "execution_count": null,
   "id": "267a7d61-a9e1-48ca-9fff-f8aab9d6404b",
   "metadata": {},
   "outputs": [],
   "source": [
    "# Once it's clean, you can use this to paste into datawrapper\n",
    "df.to_clipboard()"
   ]
  },
  {
   "cell_type": "code",
   "execution_count": null,
   "id": "6bb54c67-f25d-47f3-b553-1888ed2246b4",
   "metadata": {},
   "outputs": [],
   "source": [
    "# You can also transpose here\n",
    "df.set_index('Name').T"
   ]
  },
  {
   "cell_type": "markdown",
   "id": "4a9077ed-bcc5-42f5-9ca4-ba3f4c3e9a23",
   "metadata": {},
   "source": [
    "# NEISS"
   ]
  },
  {
   "cell_type": "code",
   "execution_count": null,
   "id": "b2a4f652-7d0d-4ef8-8e5b-fe831a95893d",
   "metadata": {},
   "outputs": [],
   "source": [
    "import pandas as pd\n",
    "\n",
    "df = pd.read_excel(\"IRE24 - Data cleaning worksheet.xlsx\", sheet_name='NEISS')\n",
    "df.head()"
   ]
  },
  {
   "cell_type": "markdown",
   "id": "8c3c32b0-eeba-4038-a46d-2031ba66a2e0",
   "metadata": {},
   "source": [
    "## Clean up age to build a histogram"
   ]
  },
  {
   "cell_type": "code",
   "execution_count": null,
   "id": "abaf97ac-25ac-4829-ba4f-716180efe335",
   "metadata": {},
   "outputs": [],
   "source": []
  },
  {
   "cell_type": "markdown",
   "id": "f06d4585-2d9c-4c34-befc-16a9146186df",
   "metadata": {},
   "source": [
    "## Only look at wall punchers"
   ]
  },
  {
   "cell_type": "code",
   "execution_count": null,
   "id": "b99eb297-02a7-4670-8fe4-792425b6028f",
   "metadata": {},
   "outputs": [],
   "source": []
  },
  {
   "cell_type": "markdown",
   "id": "bf519962-6201-4b24-aa42-1263783a38ca",
   "metadata": {},
   "source": [
    "## What did they punch?"
   ]
  },
  {
   "cell_type": "code",
   "execution_count": null,
   "id": "bd765dc5-c2ce-4e5b-95d1-302741690d23",
   "metadata": {},
   "outputs": [],
   "source": []
  }
 ],
 "metadata": {
  "kernelspec": {
   "display_name": "Python 3 (ipykernel)",
   "language": "python",
   "name": "python3"
  },
  "language_info": {
   "codemirror_mode": {
    "name": "ipython",
    "version": 3
   },
   "file_extension": ".py",
   "mimetype": "text/x-python",
   "name": "python",
   "nbconvert_exporter": "python",
   "pygments_lexer": "ipython3",
   "version": "3.10.13"
  }
 },
 "nbformat": 4,
 "nbformat_minor": 5
}
